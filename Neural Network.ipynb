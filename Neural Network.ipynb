{
 "cells": [
  {
   "cell_type": "code",
   "execution_count": 1,
   "metadata": {},
   "outputs": [
    {
     "name": "stderr",
     "output_type": "stream",
     "text": [
      "Using TensorFlow backend.\n"
     ]
    }
   ],
   "source": [
    "import pandas as pd\n",
    "from keras import models, layers, optimizers, regularizers\n",
    "import numpy as np\n",
    "import random\n",
    "from sklearn import model_selection, preprocessing\n",
    "import tensorflow as tf\n",
    "from tqdm import tqdm\n",
    "import matplotlib.pyplot as plt"
   ]
  },
  {
   "cell_type": "code",
   "execution_count": 2,
   "metadata": {},
   "outputs": [
    {
     "data": {
      "text/html": [
       "<div>\n",
       "<style scoped>\n",
       "    .dataframe tbody tr th:only-of-type {\n",
       "        vertical-align: middle;\n",
       "    }\n",
       "\n",
       "    .dataframe tbody tr th {\n",
       "        vertical-align: top;\n",
       "    }\n",
       "\n",
       "    .dataframe thead th {\n",
       "        text-align: right;\n",
       "    }\n",
       "</style>\n",
       "<table border=\"1\" class=\"dataframe\">\n",
       "  <thead>\n",
       "    <tr style=\"text-align: right;\">\n",
       "      <th></th>\n",
       "      <th>Open Price</th>\n",
       "      <th>Close Price</th>\n",
       "      <th>High Price</th>\n",
       "      <th>Low Price</th>\n",
       "      <th>Volume</th>\n",
       "      <th>target</th>\n",
       "    </tr>\n",
       "    <tr>\n",
       "      <th>Date</th>\n",
       "      <th></th>\n",
       "      <th></th>\n",
       "      <th></th>\n",
       "      <th></th>\n",
       "      <th></th>\n",
       "      <th></th>\n",
       "    </tr>\n",
       "  </thead>\n",
       "  <tbody>\n",
       "    <tr>\n",
       "      <th>02-Jan-2009</th>\n",
       "      <td>902.99</td>\n",
       "      <td>931.80</td>\n",
       "      <td>934.73</td>\n",
       "      <td>899.35</td>\n",
       "      <td>4048270080</td>\n",
       "      <td>1.0</td>\n",
       "    </tr>\n",
       "    <tr>\n",
       "      <th>05-Jan-2009</th>\n",
       "      <td>929.17</td>\n",
       "      <td>927.45</td>\n",
       "      <td>936.63</td>\n",
       "      <td>919.53</td>\n",
       "      <td>5413910016</td>\n",
       "      <td>0.0</td>\n",
       "    </tr>\n",
       "    <tr>\n",
       "      <th>06-Jan-2009</th>\n",
       "      <td>931.17</td>\n",
       "      <td>934.70</td>\n",
       "      <td>943.85</td>\n",
       "      <td>927.28</td>\n",
       "      <td>5392620032</td>\n",
       "      <td>1.0</td>\n",
       "    </tr>\n",
       "    <tr>\n",
       "      <th>07-Jan-2009</th>\n",
       "      <td>927.45</td>\n",
       "      <td>906.65</td>\n",
       "      <td>927.45</td>\n",
       "      <td>902.37</td>\n",
       "      <td>4704940032</td>\n",
       "      <td>0.0</td>\n",
       "    </tr>\n",
       "    <tr>\n",
       "      <th>08-Jan-2009</th>\n",
       "      <td>905.73</td>\n",
       "      <td>909.73</td>\n",
       "      <td>910.00</td>\n",
       "      <td>896.81</td>\n",
       "      <td>4991549952</td>\n",
       "      <td>1.0</td>\n",
       "    </tr>\n",
       "    <tr>\n",
       "      <th>09-Jan-2009</th>\n",
       "      <td>909.91</td>\n",
       "      <td>890.35</td>\n",
       "      <td>911.93</td>\n",
       "      <td>888.31</td>\n",
       "      <td>4716499968</td>\n",
       "      <td>0.0</td>\n",
       "    </tr>\n",
       "    <tr>\n",
       "      <th>12-Jan-2009</th>\n",
       "      <td>890.40</td>\n",
       "      <td>870.26</td>\n",
       "      <td>890.40</td>\n",
       "      <td>864.32</td>\n",
       "      <td>4725049856</td>\n",
       "      <td>0.0</td>\n",
       "    </tr>\n",
       "    <tr>\n",
       "      <th>13-Jan-2009</th>\n",
       "      <td>869.79</td>\n",
       "      <td>871.79</td>\n",
       "      <td>877.02</td>\n",
       "      <td>862.02</td>\n",
       "      <td>5017469952</td>\n",
       "      <td>1.0</td>\n",
       "    </tr>\n",
       "    <tr>\n",
       "      <th>14-Jan-2009</th>\n",
       "      <td>867.28</td>\n",
       "      <td>842.62</td>\n",
       "      <td>867.28</td>\n",
       "      <td>836.93</td>\n",
       "      <td>5407880192</td>\n",
       "      <td>0.0</td>\n",
       "    </tr>\n",
       "    <tr>\n",
       "      <th>15-Jan-2009</th>\n",
       "      <td>841.99</td>\n",
       "      <td>843.74</td>\n",
       "      <td>851.59</td>\n",
       "      <td>817.04</td>\n",
       "      <td>7807350272</td>\n",
       "      <td>1.0</td>\n",
       "    </tr>\n",
       "  </tbody>\n",
       "</table>\n",
       "</div>"
      ],
      "text/plain": [
       "             Open Price  Close Price  High Price  Low Price      Volume  \\\n",
       "Date                                                                      \n",
       "02-Jan-2009      902.99       931.80      934.73     899.35  4048270080   \n",
       "05-Jan-2009      929.17       927.45      936.63     919.53  5413910016   \n",
       "06-Jan-2009      931.17       934.70      943.85     927.28  5392620032   \n",
       "07-Jan-2009      927.45       906.65      927.45     902.37  4704940032   \n",
       "08-Jan-2009      905.73       909.73      910.00     896.81  4991549952   \n",
       "09-Jan-2009      909.91       890.35      911.93     888.31  4716499968   \n",
       "12-Jan-2009      890.40       870.26      890.40     864.32  4725049856   \n",
       "13-Jan-2009      869.79       871.79      877.02     862.02  5017469952   \n",
       "14-Jan-2009      867.28       842.62      867.28     836.93  5407880192   \n",
       "15-Jan-2009      841.99       843.74      851.59     817.04  7807350272   \n",
       "\n",
       "             target  \n",
       "Date                 \n",
       "02-Jan-2009     1.0  \n",
       "05-Jan-2009     0.0  \n",
       "06-Jan-2009     1.0  \n",
       "07-Jan-2009     0.0  \n",
       "08-Jan-2009     1.0  \n",
       "09-Jan-2009     0.0  \n",
       "12-Jan-2009     0.0  \n",
       "13-Jan-2009     1.0  \n",
       "14-Jan-2009     0.0  \n",
       "15-Jan-2009     1.0  "
      ]
     },
     "execution_count": 2,
     "metadata": {},
     "output_type": "execute_result"
    }
   ],
   "source": [
    "#read in data\n",
    "data = pd.read_csv('dataset.csv', sep=',', index_col=0)\n",
    "\n",
    "data.reset_index(inplace=True)\n",
    "\n",
    "pre = 0;\n",
    "for i in range(len(data.index)):\n",
    "    if(data['Close Price'][i] > pre):\n",
    "        data.loc[i, 'target'] = 1;\n",
    "    else:\n",
    "        data.loc[i, 'target'] = 0;\n",
    "    pre = data['Close Price'][i];\n",
    "    \n",
    "data.set_index(\"Date\" , inplace=True)\n",
    "\n",
    "data.head(10)"
   ]
  },
  {
   "cell_type": "code",
   "execution_count": 3,
   "metadata": {},
   "outputs": [
    {
     "data": {
      "text/html": [
       "<div>\n",
       "<style scoped>\n",
       "    .dataframe tbody tr th:only-of-type {\n",
       "        vertical-align: middle;\n",
       "    }\n",
       "\n",
       "    .dataframe tbody tr th {\n",
       "        vertical-align: top;\n",
       "    }\n",
       "\n",
       "    .dataframe thead th {\n",
       "        text-align: right;\n",
       "    }\n",
       "</style>\n",
       "<table border=\"1\" class=\"dataframe\">\n",
       "  <thead>\n",
       "    <tr style=\"text-align: right;\">\n",
       "      <th></th>\n",
       "      <th>Open Price</th>\n",
       "      <th>Close Price</th>\n",
       "      <th>High Price</th>\n",
       "      <th>Low Price</th>\n",
       "      <th>Volume</th>\n",
       "      <th>target</th>\n",
       "    </tr>\n",
       "  </thead>\n",
       "  <tbody>\n",
       "    <tr>\n",
       "      <th>0</th>\n",
       "      <td>902.99</td>\n",
       "      <td>931.80</td>\n",
       "      <td>934.73</td>\n",
       "      <td>899.35</td>\n",
       "      <td>4048270080</td>\n",
       "      <td>1.0</td>\n",
       "    </tr>\n",
       "    <tr>\n",
       "      <th>1</th>\n",
       "      <td>929.17</td>\n",
       "      <td>927.45</td>\n",
       "      <td>936.63</td>\n",
       "      <td>919.53</td>\n",
       "      <td>5413910016</td>\n",
       "      <td>0.0</td>\n",
       "    </tr>\n",
       "    <tr>\n",
       "      <th>2</th>\n",
       "      <td>931.17</td>\n",
       "      <td>934.70</td>\n",
       "      <td>943.85</td>\n",
       "      <td>927.28</td>\n",
       "      <td>5392620032</td>\n",
       "      <td>1.0</td>\n",
       "    </tr>\n",
       "    <tr>\n",
       "      <th>3</th>\n",
       "      <td>927.45</td>\n",
       "      <td>906.65</td>\n",
       "      <td>927.45</td>\n",
       "      <td>902.37</td>\n",
       "      <td>4704940032</td>\n",
       "      <td>0.0</td>\n",
       "    </tr>\n",
       "    <tr>\n",
       "      <th>4</th>\n",
       "      <td>905.73</td>\n",
       "      <td>909.73</td>\n",
       "      <td>910.00</td>\n",
       "      <td>896.81</td>\n",
       "      <td>4991549952</td>\n",
       "      <td>1.0</td>\n",
       "    </tr>\n",
       "  </tbody>\n",
       "</table>\n",
       "</div>"
      ],
      "text/plain": [
       "   Open Price  Close Price  High Price  Low Price      Volume  target\n",
       "0      902.99       931.80      934.73     899.35  4048270080     1.0\n",
       "1      929.17       927.45      936.63     919.53  5413910016     0.0\n",
       "2      931.17       934.70      943.85     927.28  5392620032     1.0\n",
       "3      927.45       906.65      927.45     902.37  4704940032     0.0\n",
       "4      905.73       909.73      910.00     896.81  4991549952     1.0"
      ]
     },
     "execution_count": 3,
     "metadata": {},
     "output_type": "execute_result"
    }
   ],
   "source": [
    "#get training set\n",
    "train = data[:'29-Dec-2017']\n",
    "train.reset_index(inplace=True)\n",
    "train = train.drop(['Date'], axis=1)\n",
    "\n",
    "train.head()"
   ]
  },
  {
   "cell_type": "code",
   "execution_count": 4,
   "metadata": {},
   "outputs": [
    {
     "data": {
      "text/html": [
       "<div>\n",
       "<style scoped>\n",
       "    .dataframe tbody tr th:only-of-type {\n",
       "        vertical-align: middle;\n",
       "    }\n",
       "\n",
       "    .dataframe tbody tr th {\n",
       "        vertical-align: top;\n",
       "    }\n",
       "\n",
       "    .dataframe thead th {\n",
       "        text-align: right;\n",
       "    }\n",
       "</style>\n",
       "<table border=\"1\" class=\"dataframe\">\n",
       "  <thead>\n",
       "    <tr style=\"text-align: right;\">\n",
       "      <th></th>\n",
       "      <th>Open Price</th>\n",
       "      <th>Close Price</th>\n",
       "      <th>High Price</th>\n",
       "      <th>Low Price</th>\n",
       "      <th>Volume</th>\n",
       "      <th>target</th>\n",
       "    </tr>\n",
       "  </thead>\n",
       "  <tbody>\n",
       "    <tr>\n",
       "      <th>0</th>\n",
       "      <td>2683.73</td>\n",
       "      <td>2695.81</td>\n",
       "      <td>2695.89</td>\n",
       "      <td>2682.36</td>\n",
       "      <td>1846463232</td>\n",
       "      <td>1.0</td>\n",
       "    </tr>\n",
       "    <tr>\n",
       "      <th>1</th>\n",
       "      <td>2697.85</td>\n",
       "      <td>2713.06</td>\n",
       "      <td>2714.37</td>\n",
       "      <td>2697.77</td>\n",
       "      <td>2090595328</td>\n",
       "      <td>1.0</td>\n",
       "    </tr>\n",
       "    <tr>\n",
       "      <th>2</th>\n",
       "      <td>2719.31</td>\n",
       "      <td>2723.99</td>\n",
       "      <td>2729.29</td>\n",
       "      <td>2719.07</td>\n",
       "      <td>2100767744</td>\n",
       "      <td>1.0</td>\n",
       "    </tr>\n",
       "    <tr>\n",
       "      <th>3</th>\n",
       "      <td>2731.33</td>\n",
       "      <td>2743.15</td>\n",
       "      <td>2743.45</td>\n",
       "      <td>2727.92</td>\n",
       "      <td>1918869120</td>\n",
       "      <td>1.0</td>\n",
       "    </tr>\n",
       "    <tr>\n",
       "      <th>4</th>\n",
       "      <td>2742.67</td>\n",
       "      <td>2747.71</td>\n",
       "      <td>2748.51</td>\n",
       "      <td>2737.60</td>\n",
       "      <td>1894823936</td>\n",
       "      <td>1.0</td>\n",
       "    </tr>\n",
       "  </tbody>\n",
       "</table>\n",
       "</div>"
      ],
      "text/plain": [
       "   Open Price  Close Price  High Price  Low Price      Volume  target\n",
       "0     2683.73      2695.81     2695.89    2682.36  1846463232     1.0\n",
       "1     2697.85      2713.06     2714.37    2697.77  2090595328     1.0\n",
       "2     2719.31      2723.99     2729.29    2719.07  2100767744     1.0\n",
       "3     2731.33      2743.15     2743.45    2727.92  1918869120     1.0\n",
       "4     2742.67      2747.71     2748.51    2737.60  1894823936     1.0"
      ]
     },
     "execution_count": 4,
     "metadata": {},
     "output_type": "execute_result"
    }
   ],
   "source": [
    "#get test set\n",
    "test = data['02-Jan-2018':]\n",
    "test.reset_index(inplace=True)\n",
    "test = test.drop(['Date'], axis=1)\n",
    "\n",
    "test.head()"
   ]
  },
  {
   "cell_type": "code",
   "execution_count": 5,
   "metadata": {},
   "outputs": [],
   "source": [
    "y_train = train['target']\n",
    "y_test = test['target']\n",
    "\n",
    "x_train = train.drop(['target'], axis=1)\n",
    "x_test = test.drop(['target'], axis=1)"
   ]
  },
  {
   "cell_type": "code",
   "execution_count": 6,
   "metadata": {},
   "outputs": [],
   "source": [
    "x_train = preprocessing.normalize(x_train)\n",
    "x_test = preprocessing.normalize(x_test)"
   ]
  },
  {
   "cell_type": "code",
   "execution_count": 13,
   "metadata": {},
   "outputs": [],
   "source": [
    "hidden_units = 10   # how many neurons in the hidden layer\n",
    "activation = 'relu'  # activation function for hidden layer\n",
    "l2 = 0.001           # regularization - how much we penalize large parameter values\n",
    "learning_rate = 0.01  # how big our steps are in gradient descent\n",
    "epochs = 20          # how many epochs to train for\n",
    "batch_size = 32      # how many samples to use for each gradient descent update"
   ]
  },
  {
   "cell_type": "code",
   "execution_count": 14,
   "metadata": {},
   "outputs": [],
   "source": [
    "# create a sequential model\n",
    "model = models.Sequential()\n",
    "\n",
    "# add the hidden layer\n",
    "model.add(layers.Dense(input_dim=5,\n",
    "                       units=hidden_units, \n",
    "                       activation=activation))\n",
    "\n",
    "# add the output layer\n",
    "model.add(layers.Dense(input_dim=hidden_units,\n",
    "                       units=1,\n",
    "                       activation='sigmoid'))\n",
    "\n",
    "# define our loss function and optimizer\n",
    "model.compile(loss='binary_crossentropy',\n",
    "              # Adam is a kind of gradient descent\n",
    "              optimizer=optimizers.Adam(lr=learning_rate),\n",
    "              metrics=['accuracy'])"
   ]
  },
  {
   "cell_type": "code",
   "execution_count": 15,
   "metadata": {},
   "outputs": [
    {
     "data": {
      "text/plain": [
       "1.0    1369\n",
       "0.0    1147\n",
       "Name: target, dtype: int64"
      ]
     },
     "execution_count": 15,
     "metadata": {},
     "output_type": "execute_result"
    }
   ],
   "source": [
    "data['target'].value_counts()"
   ]
  },
  {
   "cell_type": "code",
   "execution_count": 16,
   "metadata": {},
   "outputs": [],
   "source": [
    "class_weight = {\n",
    "    0: 1.,\n",
    "    1: 1147/1369\n",
    "}"
   ]
  },
  {
   "cell_type": "code",
   "execution_count": 17,
   "metadata": {},
   "outputs": [
    {
     "name": "stdout",
     "output_type": "stream",
     "text": [
      "Epoch 1/10\n",
      "2264/2264 [==============================] - ETA: 32s - loss: 0.6556 - acc: 0.40 - ETA: 0s - loss: 0.6338 - acc: 0.4954 - ETA: 0s - loss: 0.6327 - acc: 0.479 - 1s 260us/step - loss: 0.6324 - acc: 0.4863\n",
      "Epoch 2/10\n",
      "2264/2264 [==============================] - ETA: 0s - loss: 0.6337 - acc: 0.531 - ETA: 0s - loss: 0.6319 - acc: 0.549 - ETA: 0s - loss: 0.6325 - acc: 0.511 - 0s 57us/step - loss: 0.6324 - acc: 0.5057\n",
      "Epoch 3/10\n",
      "2264/2264 [==============================] - ETA: 0s - loss: 0.6335 - acc: 0.531 - ETA: 0s - loss: 0.6298 - acc: 0.562 - 0s 46us/step - loss: 0.6325 - acc: 0.5093\n",
      "Epoch 4/10\n",
      "2264/2264 [==============================] - ETA: 0s - loss: 0.6422 - acc: 0.562 - ETA: 0s - loss: 0.6331 - acc: 0.461 - 0s 44us/step - loss: 0.6321 - acc: 0.4713\n",
      "Epoch 5/10\n",
      "2264/2264 [==============================] - ETA: 0s - loss: 0.6209 - acc: 0.625 - ETA: 0s - loss: 0.6337 - acc: 0.532 - ETA: 0s - loss: 0.6320 - acc: 0.500 - 0s 48us/step - loss: 0.6320 - acc: 0.5013\n",
      "Epoch 6/10\n",
      "2264/2264 [==============================] - ETA: 0s - loss: 0.6258 - acc: 0.593 - ETA: 0s - loss: 0.6327 - acc: 0.541 - ETA: 0s - loss: 0.6321 - acc: 0.545 - 0s 52us/step - loss: 0.6320 - acc: 0.5464\n",
      "Epoch 7/10\n",
      "2264/2264 [==============================] - ETA: 0s - loss: 0.6257 - acc: 0.593 - ETA: 0s - loss: 0.6330 - acc: 0.509 - ETA: 0s - loss: 0.6319 - acc: 0.500 - 0s 51us/step - loss: 0.6319 - acc: 0.5022\n",
      "Epoch 8/10\n",
      "2264/2264 [==============================] - ETA: 0s - loss: 0.6172 - acc: 0.656 - ETA: 0s - loss: 0.6314 - acc: 0.549 - ETA: 0s - loss: 0.6324 - acc: 0.523 - 0s 53us/step - loss: 0.6320 - acc: 0.5128\n",
      "Epoch 9/10\n",
      "2264/2264 [==============================] - ETA: 0s - loss: 0.6232 - acc: 0.375 - ETA: 0s - loss: 0.6290 - acc: 0.555 - ETA: 0s - loss: 0.6320 - acc: 0.540 - 0s 57us/step - loss: 0.6320 - acc: 0.5225\n",
      "Epoch 10/10\n",
      "2264/2264 [==============================] - ETA: 0s - loss: 0.6368 - acc: 0.500 - ETA: 0s - loss: 0.6320 - acc: 0.498 - ETA: 0s - loss: 0.6322 - acc: 0.519 - 0s 49us/step - loss: 0.6319 - acc: 0.5146\n",
      "2264/2264 [==============================] - ETA:  - 0s 71us/step\n",
      "252/252 [==============================] - ETA:  - 0s 48us/step\n",
      "Training accuracy: 0.4536219083378256\n",
      "Testing accuracy: 0.47619047902879263\n"
     ]
    },
    {
     "data": {
      "image/png": "[encoded data removed]",
      "text/plain": [
       "<Figure size 432x288 with 1 Axes>"
      ]
     },
     "metadata": {
      "needs_background": "light"
     },
     "output_type": "display_data"
    }
   ],
   "source": [
    "# train the parameters\n",
    "history = model.fit(x_train, y_train, epochs=10, batch_size=batch_size, class_weight=class_weight)\n",
    "\n",
    "# evaluate accuracy\n",
    "train_acc = model.evaluate(x_train, y_train, batch_size=32)[1]\n",
    "test_acc = model.evaluate(x_test, y_test, batch_size=32)[1]\n",
    "print('Training accuracy: %s' % train_acc)\n",
    "print('Testing accuracy: %s' % test_acc)\n",
    "\n",
    "losses = history.history['loss']\n",
    "plt.plot(range(len(losses)), losses, 'r')\n",
    "plt.show()"
   ]
  },
  {
   "cell_type": "code",
   "execution_count": 18,
   "metadata": {},
   "outputs": [],
   "source": [
    "def train_and_evaluate(model, x_train, y_train, x_test, y_test, n=20):\n",
    "    train_accs = []\n",
    "    test_accs = []\n",
    "    with tqdm(total=n) as progress_bar:\n",
    "        for _ in range(n):\n",
    "            model.fit(\n",
    "                x_train, \n",
    "                y_train, \n",
    "                epochs=epochs, \n",
    "                batch_size=batch_size, \n",
    "                class_weight=class_weight, \n",
    "                verbose=False)\n",
    "            train_accs.append(model.evaluate(x_train, y_train, batch_size=32, verbose=False)[1])\n",
    "            test_accs.append(model.evaluate(x_test, y_test, batch_size=32, verbose=False)[1])\n",
    "            progress_bar.update()\n",
    "    print('Avgerage Training Accuracy: %s' % np.average(train_accs))\n",
    "    print('Avgerage Testing Accuracy: %s' % np.average(test_accs))\n",
    "    return train_accs, test_accs"
   ]
  },
  {
   "cell_type": "code",
   "execution_count": 19,
   "metadata": {},
   "outputs": [
    {
     "name": "stderr",
     "output_type": "stream",
     "text": [
      "100%|██████████████████████████████████████████████████████████████████████████████████| 20/20 [00:29<00:00,  1.47s/it]\n"
     ]
    },
    {
     "name": "stdout",
     "output_type": "stream",
     "text": [
      "Avgerage Training Accuracy: 0.532464664432059\n",
      "Avgerage Testing Accuracy: 0.516666667494509\n"
     ]
    }
   ],
   "source": [
    "_, test_accs = train_and_evaluate(model, x_train, y_train, x_test, y_test)"
   ]
  },
  {
   "cell_type": "code",
   "execution_count": 20,
   "metadata": {},
   "outputs": [
    {
     "name": "stdout",
     "output_type": "stream",
     "text": [
      "Min: 0.47619047902879263\n",
      "Max: 0.5238095242825765\n"
     ]
    }
   ],
   "source": [
    "print('Min: %s' % np.min(test_accs))\n",
    "print('Max: %s' % np.max(test_accs))"
   ]
  },
  {
   "cell_type": "code",
   "execution_count": null,
   "metadata": {},
   "outputs": [],
   "source": []
  }
 ],
 "metadata": {
  "kernelspec": {
   "display_name": "Python 3",
   "language": "python",
   "name": "python3"
  },
  "language_info": {
   "codemirror_mode": {
    "name": "ipython",
    "version": 3
   },
   "file_extension": ".py",
   "mimetype": "text/x-python",
   "name": "python",
   "nbconvert_exporter": "python",
   "pygments_lexer": "ipython3",
   "version": "3.7.1"
  }
 },
 "nbformat": 4,
 "nbformat_minor": 2
}
